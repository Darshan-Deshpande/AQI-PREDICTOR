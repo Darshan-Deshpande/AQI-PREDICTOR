{
 "cells": [
  {
   "cell_type": "markdown",
   "metadata": {},
   "source": [
    "# DATA CLEANING"
   ]
  },
  {
   "cell_type": "code",
   "execution_count": 1,
   "metadata": {},
   "outputs": [],
   "source": [
    "import pandas as pd\n",
    "import numpy as np\n",
    "from datetime import datetime\n",
    "# Adding libraries"
   ]
  },
  {
   "cell_type": "markdown",
   "metadata": {},
   "source": [
    "## Cleaning of datasets of CO"
   ]
  },
  {
   "cell_type": "code",
   "execution_count": 1,
   "metadata": {},
   "outputs": [],
   "source": [
    "def dataframe_filter_CO(dataframe):\n",
    "    df = dataframe[dataframe['sample_duration'] == '8-HR RUN AVG END HOUR']\n",
    "    df = df.reset_index(drop = True)\n",
    "    df = df.drop(columns = ['parameter_code', 'poc', 'datum', 'sample_duration', 'pollutant_standard', 'event_type', 'observation_percent', 'validity_indicator', 'method_code', 'cbsa_code', 'date_of_last_change'])\n",
    "    \n",
    "    for i in range(len(df)):\n",
    "        df.iloc[i, 6] = datetime.strptime(df.iloc[i, 6], \"%Y-%m-%d\")\n",
    "    \n",
    "    df.state_code = df.state_code.astype('int64')\n",
    "    df.county_code = df.county_code.astype('int64')\n",
    "    df.site_number = df.site_number.astype('int64')\n",
    "    df.observation_count = df.observation_count.astype('int64')\n",
    "    df.first_max_hour = df.first_max_hour.astype('int64')\n",
    "    df.latitude = df.latitude.astype('float64')\n",
    "    df.longitude = df.longitude.astype('float64')\n",
    "    df.arithmetic_mean = df.arithmetic_mean.astype('float64')\n",
    "    df.first_max_value = df.first_max_value.astype('float64')\n",
    "    df.aqi = df.aqi.astype('float64')\n",
    "    \n",
    "    df = df.drop_duplicates()\n",
    "    df = df.reset_index(drop = True)\n",
    "    \n",
    "    return df\n",
    "\n",
    "# This function cleans the datasets of CO by extracting the necessary part of dataframe, deleting unnecessary columns and changing datatypes of some columns as per the requirements."
   ]
  },
  {
   "cell_type": "code",
   "execution_count": 6,
   "metadata": {},
   "outputs": [],
   "source": [
    "US_CO_2019 = pd.read_csv('US_CO_2019.csv', index_col = 0)\n",
    "# Reading csv file"
   ]
  },
  {
   "cell_type": "code",
   "execution_count": 37,
   "metadata": {},
   "outputs": [],
   "source": [
    "US_CO_2019 = dataframe_filter_CO(US_CO_2019)\n",
    "# Passing the dataframe to the function 'dataframe_filter_CO' for cleaning"
   ]
  },
  {
   "cell_type": "code",
   "execution_count": 59,
   "metadata": {},
   "outputs": [],
   "source": [
    "US_CO_2019.to_csv('US_CO_2019_final.csv')\n",
    "# Saves the cleaned dataframe into csv format"
   ]
  },
  {
   "cell_type": "code",
   "execution_count": 40,
   "metadata": {},
   "outputs": [],
   "source": [
    "US_CO_2020 = pd.read_csv('US_CO_2020.csv', index_col = 0)\n",
    "# Reading csv file"
   ]
  },
  {
   "cell_type": "code",
   "execution_count": 41,
   "metadata": {},
   "outputs": [],
   "source": [
    "US_CO_2020 = dataframe_filter_CO(US_CO_2020)\n",
    "# Passing the dataframe to the function 'dataframe_filter_CO' for cleaning"
   ]
  },
  {
   "cell_type": "code",
   "execution_count": 62,
   "metadata": {},
   "outputs": [],
   "source": [
    "US_CO_2020.to_csv('US_CO_2020_final.csv')\n",
    "# Saves the cleaned dataframe into csv format"
   ]
  },
  {
   "cell_type": "markdown",
   "metadata": {},
   "source": [
    "## Cleaning of datasets of SO2"
   ]
  },
  {
   "cell_type": "code",
   "execution_count": 3,
   "metadata": {},
   "outputs": [],
   "source": [
    "def dataframe_filter_SO2(dataframe):\n",
    "    df = dataframe[dataframe['sample_duration'] == '1 HOUR']\n",
    "    df = df.reset_index(drop = True)\n",
    "    df = df.drop(columns = ['parameter_code', 'poc', 'datum', 'sample_duration', 'pollutant_standard', 'event_type', 'observation_percent', 'validity_indicator', 'method_code', 'cbsa_code', 'date_of_last_change'])\n",
    "    \n",
    "    for i in range(len(df)):\n",
    "        df.iloc[i, 6] = datetime.strptime(df.iloc[i, 6], \"%Y-%m-%d\")\n",
    "    \n",
    "    df.state_code = df.state_code.astype('int64')\n",
    "    df.county_code = df.county_code.astype('int64')\n",
    "    df.site_number = df.site_number.astype('int64')\n",
    "    df.observation_count = df.observation_count.astype('int64')\n",
    "    df.first_max_hour = df.first_max_hour.astype('int64')\n",
    "    df.latitude = df.latitude.astype('float64')\n",
    "    df.longitude = df.longitude.astype('float64')\n",
    "    df.arithmetic_mean = df.arithmetic_mean.astype('float64')\n",
    "    df.first_max_value = df.first_max_value.astype('float64')\n",
    "    df.aqi = df.aqi.astype('float64')\n",
    "    \n",
    "    df = df.drop_duplicates()\n",
    "    df = df.reset_index(drop = True)\n",
    "    \n",
    "    return df\n",
    "\n",
    "# This function cleans the datasets of SO2 by extracting the necessary part of dataframe, deleting unnecessary columns and changing datatypes of some columns as per the requirements."
   ]
  },
  {
   "cell_type": "code",
   "execution_count": 31,
   "metadata": {},
   "outputs": [],
   "source": [
    "US_SO2_2020 = pd.read_csv('US_SO2_2020.csv', index_col = 0)\n",
    "# Reading csv file"
   ]
  },
  {
   "cell_type": "code",
   "execution_count": 32,
   "metadata": {},
   "outputs": [],
   "source": [
    "US_SO2_2020 = dataframe_filter_SO2(US_SO2_2020)\n",
    "# Passing the dataframe to the function 'dataframe_filter_SO2' for cleaning"
   ]
  },
  {
   "cell_type": "code",
   "execution_count": 65,
   "metadata": {},
   "outputs": [],
   "source": [
    "US_SO2_2020.to_csv('US_SO2_2020_final.csv')\n",
    "# Saves the cleaned dataframe into csv format"
   ]
  },
  {
   "cell_type": "code",
   "execution_count": 48,
   "metadata": {},
   "outputs": [],
   "source": [
    "US_SO2_2019 = pd.read_csv('US_SO2_2019.csv', index_col = 0)\n",
    "# Reading csv file"
   ]
  },
  {
   "cell_type": "code",
   "execution_count": 51,
   "metadata": {},
   "outputs": [],
   "source": [
    "US_SO2_2019 = dataframe_filter_SO2(US_SO2_2019)\n",
    "# Passing the dataframe to the function 'dataframe_filter_SO2' for cleaning"
   ]
  },
  {
   "cell_type": "code",
   "execution_count": 68,
   "metadata": {
    "scrolled": true
   },
   "outputs": [],
   "source": [
    "US_SO2_2019.to_csv('US_SO2_2019_final.csv')\n",
    "# Saves the cleaned dataframe into csv format"
   ]
  },
  {
   "cell_type": "markdown",
   "metadata": {},
   "source": [
    "## Cleaning of datasets of NO2"
   ]
  },
  {
   "cell_type": "code",
   "execution_count": 4,
   "metadata": {},
   "outputs": [],
   "source": [
    "def dataframe_filter_NO2(dataframe):\n",
    "    df = dataframe[dataframe['sample_duration'] == '1 HOUR']\n",
    "    df = df.reset_index(drop = True)\n",
    "    df = df.drop(columns = ['parameter_code', 'poc', 'datum', 'sample_duration', 'pollutant_standard', 'event_type', 'observation_percent', 'validity_indicator', 'method_code', 'cbsa_code', 'date_of_last_change'])\n",
    "    \n",
    "    for i in range(len(df)):\n",
    "        df.iloc[i, 6] = datetime.strptime(df.iloc[i, 6], \"%Y-%m-%d\")\n",
    "    \n",
    "    df.state_code = df.state_code.astype('int64')\n",
    "    df.county_code = df.county_code.astype('int64')\n",
    "    df.site_number = df.site_number.astype('int64')\n",
    "    df.observation_count = df.observation_count.astype('int64')\n",
    "    df.first_max_hour = df.first_max_hour.astype('int64')\n",
    "    df.latitude = df.latitude.astype('float64')\n",
    "    df.longitude = df.longitude.astype('float64')\n",
    "    df.arithmetic_mean = df.arithmetic_mean.astype('float64')\n",
    "    df.first_max_value = df.first_max_value.astype('float64')\n",
    "    df.aqi = df.aqi.astype('float64')\n",
    "    \n",
    "    df = df.drop_duplicates()\n",
    "    df = df.reset_index(drop = True)\n",
    "    \n",
    "    return df\n",
    "\n",
    "# This function cleans the datasets of NO2 by extracting the necessary part of dataframe, deleting unnecessary columns and changing datatypes of some columns as per the requirements."
   ]
  },
  {
   "cell_type": "code",
   "execution_count": 75,
   "metadata": {},
   "outputs": [],
   "source": [
    "US_NO2_2019 = pd.read_csv('US_NO2_2019.csv', index_col = 0)\n",
    "# Reading csv file"
   ]
  },
  {
   "cell_type": "code",
   "execution_count": 76,
   "metadata": {},
   "outputs": [],
   "source": [
    "US_NO2_2019 = dataframe_filter_NO2(US_NO2_2019)\n",
    "# Passing the dataframe to the function 'dataframe_filter_NO2' for cleaning"
   ]
  },
  {
   "cell_type": "code",
   "execution_count": 78,
   "metadata": {
    "scrolled": true
   },
   "outputs": [],
   "source": [
    "US_NO2_2019.to_csv('US_NO2_2019_final.csv')\n",
    "# Saves the cleaned dataframe into csv format"
   ]
  },
  {
   "cell_type": "code",
   "execution_count": 79,
   "metadata": {},
   "outputs": [],
   "source": [
    "US_NO2_2020 = pd.read_csv('US_NO2_2020.csv', index_col = 0)\n",
    "# Reading csv file"
   ]
  },
  {
   "cell_type": "code",
   "execution_count": 80,
   "metadata": {},
   "outputs": [],
   "source": [
    "US_NO2_2020 = dataframe_filter_NO2(US_NO2_2020)\n",
    "# Passing the dataframe to the function 'dataframe_filter_NO2' for cleaning"
   ]
  },
  {
   "cell_type": "code",
   "execution_count": 82,
   "metadata": {},
   "outputs": [],
   "source": [
    "US_NO2_2020.to_csv('US_NO2_2020_final.csv')\n",
    "# Saves the cleaned dataframe into csv format"
   ]
  },
  {
   "cell_type": "markdown",
   "metadata": {},
   "source": [
    "## Cleaning of datasets of O3"
   ]
  },
  {
   "cell_type": "code",
   "execution_count": 5,
   "metadata": {},
   "outputs": [],
   "source": [
    "def dataframe_filter_O3(dataframe):\n",
    "    df = dataframe[dataframe['sample_duration'] == '8-HR RUN AVG BEGIN HOUR']\n",
    "    df = df.reset_index(drop = True)\n",
    "    df = df.drop(columns = ['parameter_code', 'poc', 'datum', 'sample_duration', 'pollutant_standard', 'event_type', 'observation_percent', 'validity_indicator', 'method_code', 'cbsa_code', 'date_of_last_change'])\n",
    "    \n",
    "    for i in range(len(df)):\n",
    "        df.iloc[i, 6] = datetime.strptime(df.iloc[i, 6], \"%Y-%m-%d\")\n",
    "    \n",
    "    df.state_code = df.state_code.astype('int64')\n",
    "    df.county_code = df.county_code.astype('int64')\n",
    "    df.site_number = df.site_number.astype('int64')\n",
    "    df.observation_count = df.observation_count.astype('int64')\n",
    "    df.first_max_hour = df.first_max_hour.astype('int64')\n",
    "    df.latitude = df.latitude.astype('float64')\n",
    "    df.longitude = df.longitude.astype('float64')\n",
    "    df.arithmetic_mean = df.arithmetic_mean.astype('float64')\n",
    "    df.first_max_value = df.first_max_value.astype('float64')\n",
    "    df.aqi = df.aqi.astype('float64')\n",
    "    \n",
    "    df = df.drop_duplicates()\n",
    "    df = df.reset_index(drop = True)\n",
    "    \n",
    "    return df\n",
    "\n",
    "# This function cleans the datasets of O3 by extracting the necessary part of dataframe, deleting unnecessary columns and changing datatypes of some columns as per the requirements."
   ]
  },
  {
   "cell_type": "code",
   "execution_count": 84,
   "metadata": {},
   "outputs": [],
   "source": [
    "US_O3_2020 = pd.read_csv('US_O3_2020.csv', index_col = 0)\n",
    "# Reading csv file"
   ]
  },
  {
   "cell_type": "code",
   "execution_count": 88,
   "metadata": {},
   "outputs": [],
   "source": [
    "US_O3_2020 = dataframe_filter_O3(US_O3_2020)\n",
    "# Passing the dataframe to the function 'dataframe_filter_O3' for cleaning"
   ]
  },
  {
   "cell_type": "code",
   "execution_count": 92,
   "metadata": {
    "scrolled": true
   },
   "outputs": [],
   "source": [
    "US_O3_2020.to_csv('US_O3_2020_final.csv')\n",
    "# Saves the cleaned dataframe into csv format"
   ]
  },
  {
   "cell_type": "code",
   "execution_count": 3,
   "metadata": {
    "scrolled": true
   },
   "outputs": [
    {
     "name": "stderr",
     "output_type": "stream",
     "text": [
      "F:\\Anaconda\\lib\\site-packages\\IPython\\core\\interactiveshell.py:3071: DtypeWarning: Columns (30) have mixed types.Specify dtype option on import or set low_memory=False.\n",
      "  has_raised = await self.run_ast_nodes(code_ast.body, cell_name,\n",
      "F:\\Anaconda\\lib\\site-packages\\numpy\\lib\\arraysetops.py:569: FutureWarning: elementwise comparison failed; returning scalar instead, but in the future will perform elementwise comparison\n",
      "  mask |= (ar1 == a)\n"
     ]
    }
   ],
   "source": [
    "US_O3_2019 = pd.read_csv('US_O3_2019.csv', index_col = 0)\n",
    "# Reading csv file"
   ]
  },
  {
   "cell_type": "code",
   "execution_count": 5,
   "metadata": {},
   "outputs": [],
   "source": [
    "US_O3_2019 = dataframe_filter_O3(US_O3_2019)\n",
    "# Passing the dataframe to the function 'dataframe_filter_O3' for cleaning"
   ]
  },
  {
   "cell_type": "code",
   "execution_count": 7,
   "metadata": {
    "scrolled": true
   },
   "outputs": [],
   "source": [
    "US_O3_2019.to_csv('US_O3_2019_final.csv')\n",
    "# Saves the cleaned dataframe into csv format"
   ]
  },
  {
   "cell_type": "code",
   "execution_count": null,
   "metadata": {},
   "outputs": [],
   "source": []
  }
 ],
 "metadata": {
  "kernelspec": {
   "display_name": "Python 3",
   "language": "python",
   "name": "python3"
  },
  "language_info": {
   "codemirror_mode": {
    "name": "ipython",
    "version": 3
   },
   "file_extension": ".py",
   "mimetype": "text/x-python",
   "name": "python",
   "nbconvert_exporter": "python",
   "pygments_lexer": "ipython3",
   "version": "3.8.3"
  }
 },
 "nbformat": 4,
 "nbformat_minor": 4
}
